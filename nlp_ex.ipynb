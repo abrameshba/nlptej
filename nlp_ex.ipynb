{
  "nbformat": 4,
  "nbformat_minor": 0,
  "metadata": {
    "colab": {
      "name": "nlp-ex.ipynb",
      "provenance": [],
      "collapsed_sections": [],
      "include_colab_link": true
    },
    "kernelspec": {
      "name": "python3",
      "display_name": "Python 3"
    },
    "language_info": {
      "name": "python"
    }
  },
  "cells": [
    {
      "cell_type": "markdown",
      "metadata": {
        "id": "view-in-github",
        "colab_type": "text"
      },
      "source": [
        "<a href=\"https://colab.research.google.com/github/abrameshba/nlptej/blob/main/nlp_ex.ipynb\" target=\"_parent\"><img src=\"https://colab.research.google.com/assets/colab-badge.svg\" alt=\"Open In Colab\"/></a>"
      ]
    },
    {
      "cell_type": "code",
      "metadata": {
        "id": "JHSR1PJHC0dD"
      },
      "source": [
        "# !pip install spacy\n",
        "# !python -m spacy download en_core_web_lg\n",
        "!pip install en_core_web_lg\n",
        "import spacy\n",
        "import networkx as nx\n",
        "import matplotlib.pyplot as plt\n",
        "\n",
        "#https://stackoverflow.com/questions/56927602/unable-to-load-the-spacy-model-en-core-web-lg-on-google-colab\n",
        "import en_core_web_lg\n",
        "nlp = en_core_web_lg.load()\n",
        "  \n",
        "# print(\"Enter two space-separated words\")\n",
        "# words = input()\n",
        "\n",
        "# Load the Drive helper and mount\n",
        "from google.colab import drive\n",
        "\n",
        "# This will prompt for authorization.\n",
        "drive.mount(\"/content/drive\", force_remount=True)\n",
        "strn = \"\"\n",
        "\n",
        "# files will be present in \"/content/drive/My Drive\".\n",
        "with open(\"/content/drive/My Drive/abc.txt\",\"r\") as file:\n",
        "  for line in file:\n",
        "    strn += \" \"+line\n",
        "\n",
        "tokens = nlp(strn)\n",
        "graph = nx.Graph()\n",
        "\n",
        "for token in tokens:\n",
        "    # Printing the following attributes of each token.\n",
        "    # text: the word string, has_vector: if it contains\n",
        "    # a vector representation in the model, \n",
        "    # vector_norm: the algebraic norm of the vector,\n",
        "    # is_oov: if the word is out of vocabulary.\n",
        "    # print(token.text, token.has_vector, token.vector_norm, token.is_oov)\n",
        "    if len(token)>2:\n",
        "      graph.add_node(token)\n",
        "  \n",
        "# token1, token2 = tokens[0], tokens[1]\n",
        "  \n",
        "# print(\"Similarity:\", token1.similarity(token2))\n",
        "\n",
        "for node1 in graph.nodes:\n",
        "  for node2 in graph.nodes:\n",
        "    if node1!=node2:\n",
        "      graph.add_edge(node1,node2,weight=node1.similarity(node2))\n",
        "\n",
        "nx.draw_circular(graph, with_labels=True)\n",
        "plt.show()\n",
        "\n"
      ],
      "execution_count": null,
      "outputs": []
    }
  ]
}